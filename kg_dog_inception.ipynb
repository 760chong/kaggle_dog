{
 "cells": [
  {
   "cell_type": "markdown",
   "metadata": {},
   "source": [
    "解压数据集\n",
    "训练数据集train.zip和测试数据集test.zip都是压缩格式，下载后它们的路径可以如下：\n",
    "\n",
    "../data/kaggle_dog/train.zip\n",
    "../data/kaggle_dog/test.zip\n",
    "../data/kaggle_dog/labels.csv.zip\n",
    "为了使网页编译快一点，我们在git repo里仅仅存放小数据样本（’train_valid_test_tiny.zip’）。执行以下代码会从git repo里解压生成小数据样本。"
   ]
  },
  {
   "cell_type": "code",
   "execution_count": null,
   "metadata": {
    "collapsed": true
   },
   "outputs": [],
   "source": [
    "# 如果训练下载的Kaggle的完整数据集，把demo改为False。\n",
    "demo = False\n",
    "data_dir = './'\n",
    "\n",
    "if demo:\n",
    "    zipfiles= ['train_valid_test_tiny.zip']\n",
    "else:\n",
    "    zipfiles= ['train.zip', 'test.zip', 'labels.csv.zip']\n",
    "\n",
    "import zipfile\n",
    "for fin in zipfiles:\n",
    "    with zipfile.ZipFile(data_dir + '/' + fin, 'r') as zin:\n",
    "        zin.extractall(data_dir)"
   ]
  },
  {
   "cell_type": "code",
   "execution_count": 1,
   "metadata": {
    "collapsed": true
   },
   "outputs": [],
   "source": [
    "demo = False\n",
    "data_dir = './'"
   ]
  },
  {
   "cell_type": "markdown",
   "metadata": {},
   "source": [
    "整理数据集\n",
    "对于Kaggle的完整数据集，我们需要定义下面的reorg_dog_data函数来整理一下。整理后，同一类狗的图片将出现在在同一个文件夹下，便于Gluon稍后读取。\n",
    "\n",
    "函数中的参数如data_dir、train_dir和test_dir对应上述数据存放路径及原始训练和测试的图片集文件夹名称。参数label_file为训练数据标签的文件名称。参数input_dir是整理后数据集文件夹名称。参数valid_ratio是验证集中每类狗的数量占原始训练集中数量最少一类的狗的数量（66）的比重。"
   ]
  },
  {
   "cell_type": "code",
   "execution_count": 2,
   "metadata": {
    "collapsed": true
   },
   "outputs": [],
   "source": [
    "import math\n",
    "import os\n",
    "import shutil\n",
    "from collections import Counter\n",
    "\n",
    "def reorg_dog_data(data_dir, label_file, train_dir, test_dir, input_dir,\n",
    "                   valid_ratio):\n",
    "    # 读取训练数据标签。\n",
    "    with open(os.path.join(data_dir, label_file), 'r') as f:\n",
    "        # 跳过文件头行（栏名称）。\n",
    "        lines = f.readlines()[1:]\n",
    "        tokens = [l.rstrip().split(',') for l in lines]\n",
    "        idx_label = dict(((idx, label) for idx, label in tokens))\n",
    "    labels = set(idx_label.values())\n",
    "\n",
    "    num_train = len(os.listdir(os.path.join(data_dir, train_dir)))\n",
    "    # 训练集中数量最少一类的狗的数量。\n",
    "    min_num_train_per_label = (\n",
    "        Counter(idx_label.values()).most_common()[:-2:-1][0][1])\n",
    "    # 验证集中每类狗的数量。\n",
    "    num_valid_per_label = math.floor(min_num_train_per_label * valid_ratio)\n",
    "    label_count = dict()\n",
    "\n",
    "    def mkdir_if_not_exist(path):\n",
    "        if not os.path.exists(os.path.join(*path)):\n",
    "            os.makedirs(os.path.join(*path))\n",
    "\n",
    "    # 整理训练和验证集。\n",
    "    for train_file in os.listdir(os.path.join(data_dir, train_dir)):\n",
    "        idx = train_file.split('.')[0]\n",
    "        label = idx_label[idx]\n",
    "        mkdir_if_not_exist([data_dir, input_dir, 'train_valid', label])\n",
    "        shutil.copy(os.path.join(data_dir, train_dir, train_file),\n",
    "                    os.path.join(data_dir, input_dir, 'train_valid', label))\n",
    "        if label not in label_count or label_count[label] < num_valid_per_label:\n",
    "            mkdir_if_not_exist([data_dir, input_dir, 'valid', label])\n",
    "            shutil.copy(os.path.join(data_dir, train_dir, train_file),\n",
    "                        os.path.join(data_dir, input_dir, 'valid', label))\n",
    "            label_count[label] = label_count.get(label, 0) + 1\n",
    "        else:\n",
    "            mkdir_if_not_exist([data_dir, input_dir, 'train', label])\n",
    "            shutil.copy(os.path.join(data_dir, train_dir, train_file),\n",
    "                        os.path.join(data_dir, input_dir, 'train', label))\n",
    "\n",
    "    # 整理测试集。\n",
    "    mkdir_if_not_exist([data_dir, input_dir, 'test', 'unknown'])\n",
    "    for test_file in os.listdir(os.path.join(data_dir, test_dir)):\n",
    "        shutil.copy(os.path.join(data_dir, test_dir, test_file),\n",
    "                    os.path.join(data_dir, input_dir, 'test', 'unknown'))"
   ]
  },
  {
   "cell_type": "markdown",
   "metadata": {},
   "source": [
    "再次强调，为了使网页编译快一点，我们在这里仅仅使用小数据样本。相应地，我们仅将批量大小设为2。实际训练和测试时应使用Kaggle的完整数据集并调用reorg_dog_data函数整理便于Gluon读取的格式。由于数据集较大，批量大小batch_size大小可设为一个较大的整数，例如128。"
   ]
  },
  {
   "cell_type": "code",
   "execution_count": 3,
   "metadata": {
    "collapsed": true
   },
   "outputs": [],
   "source": [
    "if demo:\n",
    "    # 注意：此处使用小数据集为便于网页编译。\n",
    "    input_dir = 'train_valid_test_tiny'\n",
    "    # 注意：此处相应使用小批量。对Kaggle的完整数据集可设较大的整数，例如128。\n",
    "    batch_size = 2\n",
    "else:\n",
    "    label_file = 'labels.csv'\n",
    "    train_dir = 'train'\n",
    "    test_dir = 'test'\n",
    "    input_dir = 'train_valid_test'\n",
    "    batch_size = 128\n",
    "    valid_ratio = 0.1\n",
    "    #reorg_dog_data(data_dir, label_file, train_dir, test_dir, input_dir,\n",
    "                 #  valid_ratio)"
   ]
  },
  {
   "cell_type": "markdown",
   "metadata": {},
   "source": [
    "使用Gluon读取整理后的数据集\n",
    "为避免过拟合，我们在这里使用image.CreateAugmenter来增广数据集。例如我们设rand_mirror=True即可随机对每张图片做镜面反转。以下我们列举了该函数里的所有参数，这些参数都是可以调的。"
   ]
  },
  {
   "cell_type": "code",
   "execution_count": 4,
   "metadata": {
    "collapsed": true
   },
   "outputs": [],
   "source": [
    "from mxnet import autograd\n",
    "from mxnet import gluon\n",
    "from mxnet import image\n",
    "from mxnet import init\n",
    "from mxnet import nd\n",
    "from mxnet.gluon.data import vision\n",
    "import numpy as np\n",
    "\n",
    "def transform_train(data, label):\n",
    "    im = image.imresize(data.astype('float32') / 255, 363, 363)\n",
    "    #im = image.imresize(data.astype('float32') / 255, 400, 400)\n",
    "    auglist = image.CreateAugmenter(data_shape=(3, 363, 363), resize=0, \n",
    "                        rand_crop=False, rand_resize=False, rand_mirror=True,\n",
    "                        mean=np.array([0.485, 0.456, 0.406]), std=np.array([0.229, 0.224, 0.225]), \n",
    "                        brightness=0, contrast=0, \n",
    "                        saturation=0, hue=0, \n",
    "                        pca_noise=0, rand_gray=0, inter_method=2)\n",
    "    for aug in auglist:\n",
    "        im = aug(im)\n",
    "    # 将数据格式从\"高*宽*通道\"改为\"通道*高*宽\"。\n",
    "    im = nd.transpose(im, (2,0,1))\n",
    "    return (im, nd.array([label]).asscalar().astype('float32'))\n",
    "\n",
    "def transform_test(data, label):\n",
    "    im = image.imresize(data.astype('float32') / 255, 363, 363)\n",
    "    auglist = image.CreateAugmenter(data_shape=(3, 363, 363),\n",
    "                        mean=np.array([0.485, 0.456, 0.406]),\n",
    "                        std=np.array([0.229, 0.224, 0.225]))\n",
    "    for aug in auglist:\n",
    "        im = aug(im)\n",
    "    im = nd.transpose(im, (2,0,1))\n",
    "    return (im, nd.array([label]).asscalar().astype('float32'))"
   ]
  },
  {
   "cell_type": "markdown",
   "metadata": {},
   "source": [
    "接下来，我们可以使用Gluon中的ImageFolderDataset类来读取整理后的数据集。"
   ]
  },
  {
   "cell_type": "code",
   "execution_count": 5,
   "metadata": {
    "collapsed": true
   },
   "outputs": [],
   "source": [
    "input_str = data_dir + '/' + input_dir + '/'\n",
    "\n",
    "# 读取原始图像文件。flag=1说明输入图像有三个通道（彩色）。\n",
    "train_ds = vision.ImageFolderDataset(input_str + 'train', flag=1,\n",
    "                                     transform=transform_train)\n",
    "valid_ds = vision.ImageFolderDataset(input_str + 'valid', flag=1,\n",
    "                                     transform=transform_test)\n",
    "train_valid_ds = vision.ImageFolderDataset(input_str + 'train_valid',\n",
    "                                           flag=1, transform=transform_train)\n",
    "test_ds = vision.ImageFolderDataset(input_str + 'test', flag=1,\n",
    "                                     transform=transform_test)\n",
    "\n",
    "loader = gluon.data.DataLoader\n",
    "train_data = loader(train_ds, batch_size, shuffle=True, last_batch='keep')\n",
    "valid_data = loader(valid_ds, batch_size, shuffle=True, last_batch='keep')\n",
    "train_valid_data = loader(train_valid_ds, batch_size, shuffle=True,\n",
    "                          last_batch='keep')\n",
    "test_data = loader(test_ds, batch_size, shuffle=False, last_batch='keep')"
   ]
  },
  {
   "cell_type": "markdown",
   "metadata": {},
   "source": [
    "定义模型"
   ]
  },
  {
   "cell_type": "code",
   "execution_count": 13,
   "metadata": {
    "collapsed": true
   },
   "outputs": [],
   "source": [
    "from mxnet import gluon\n",
    "from mxnet import init\n",
    "#from mxnet.gluon.data import vision\n",
    "from mxnet.gluon.model_zoo import vision\n",
    "from mxnet.gluon import nn\n",
    "\n",
    "def get_features(ctx):\n",
    "    inception = vision.inception_v3(pretrained=True,ctx=ctx)\n",
    "    return inception.features\n",
    "\n",
    "\n",
    "def get_output(ctx,ParamsName=None):\n",
    "    net = nn.HybridSequential()\n",
    "    with net.name_scope():\n",
    "        net.add(nn.Dropout(.2))\n",
    "        net.add(nn.Dense(256, activation=\"relu\"))\n",
    "        net.add(nn.Dropout(.6))\n",
    "        net.add(nn.Dense(120))\n",
    "    if ParamsName is not None:\n",
    "        #net.collect_params().load(ParamsName,ctx)\n",
    "        net.load_params(ParamsName,ctx)\n",
    "    else:\n",
    "        net.initialize(init = init.Xavier(),ctx=ctx)\n",
    "    return net\n",
    "\n",
    "def get_net(ParamsName,ctx):\n",
    "    output = get_output(ctx,ParamsName)\n",
    "    features = get_features(ctx)\n",
    "    net = nn.HybridSequential()\n",
    "    with net.name_scope():\n",
    "        net.add(features)\n",
    "        net.add(output)\n",
    "    return net"
   ]
  },
  {
   "cell_type": "code",
   "execution_count": null,
   "metadata": {
    "collapsed": true
   },
   "outputs": [],
   "source": [
    "import mxnet as mx\n",
    "net2=get_features(mx.gpu())\n",
    "print(net2)"
   ]
  },
  {
   "cell_type": "code",
   "execution_count": 7,
   "metadata": {},
   "outputs": [
    {
     "name": "stderr",
     "output_type": "stream",
     "text": [
      "\r",
      "  0%|          | 0/75 [00:00<?, ?it/s]"
     ]
    },
    {
     "name": "stdout",
     "output_type": "stream",
     "text": [
      "提取特征 train_inception_v3.nd\n"
     ]
    },
    {
     "name": "stderr",
     "output_type": "stream",
     "text": [
      "100%|██████████| 75/75 [02:41<00:00,  2.16s/it]\n"
     ]
    },
    {
     "name": "stdout",
     "output_type": "stream",
     "text": [
      "保存特征 train_inception_v3.nd\n"
     ]
    },
    {
     "name": "stderr",
     "output_type": "stream",
     "text": [
      "\r",
      "  0%|          | 0/6 [00:00<?, ?it/s]"
     ]
    },
    {
     "name": "stdout",
     "output_type": "stream",
     "text": [
      "提取特征 valid_inception_v3.nd\n"
     ]
    },
    {
     "name": "stderr",
     "output_type": "stream",
     "text": [
      "100%|██████████| 6/6 [00:25<00:00,  4.25s/it]\n",
      "  0%|          | 0/80 [00:00<?, ?it/s]"
     ]
    },
    {
     "name": "stdout",
     "output_type": "stream",
     "text": [
      "保存特征 valid_inception_v3.nd\n",
      "提取特征 input_inception_v3.nd\n"
     ]
    },
    {
     "name": "stderr",
     "output_type": "stream",
     "text": [
      "100%|██████████| 80/80 [02:40<00:00,  2.00s/it]\n"
     ]
    },
    {
     "name": "stdout",
     "output_type": "stream",
     "text": [
      "保存特征 input_inception_v3.nd\n"
     ]
    }
   ],
   "source": [
    "from mxnet import nd\n",
    "import numpy as np\n",
    "import mxnet as mx\n",
    "import pandas as pd\n",
    "import pickle\n",
    "from tqdm import tqdm\n",
    "\n",
    "net = get_features(mx.gpu())\n",
    "net.hybridize()\n",
    "\n",
    "def SaveNd(data,net,name):\n",
    "    x =[]\n",
    "    y =[]\n",
    "    print('提取特征 %s' % name)\n",
    "    for fear,label in tqdm(data):\n",
    "        x.append(net(fear.as_in_context(mx.gpu())).as_in_context(mx.cpu()))\n",
    "        y.append(label)\n",
    "    x = nd.concat(*x,dim=0)\n",
    "    y = nd.concat(*y,dim=0)\n",
    "    print('保存特征 %s' % name)\n",
    "    nd.save(name,[x,y])\n",
    "\n",
    "\n",
    "SaveNd(train_data,net,'train_inception_v3.nd')\n",
    "SaveNd(valid_data,net,'valid_inception_v3.nd')\n",
    "SaveNd(train_valid_data,net,'input_inception_v3.nd')\n",
    "# SaveNd(test_data,net,'test_resnet152_v1.nd')\n",
    "ids = ids = sorted(os.listdir(os.path.join(data_dir, input_dir, 'test/unknown')))\n",
    "synsets = train_valid_ds.synsets\n",
    "f = open('ids_synsets','wb')\n",
    "pickle.dump([ids,synsets],f)\n",
    "f.close()"
   ]
  },
  {
   "cell_type": "code",
   "execution_count": 15,
   "metadata": {},
   "outputs": [
    {
     "name": "stdout",
     "output_type": "stream",
     "text": [
      "Epoch 0. Train loss: 4.601394, Valid loss 4.147538, Time 00:00:00, lr 0.0001\n",
      "Epoch 1. Train loss: 3.850138, Valid loss 3.108627, Time 00:00:00, lr 0.0001\n",
      "Epoch 2. Train loss: 2.947191, Valid loss 2.097983, Time 00:00:00, lr 0.0001\n",
      "Epoch 3. Train loss: 2.200647, Valid loss 1.377358, Time 00:00:00, lr 0.0001\n",
      "Epoch 4. Train loss: 1.661375, Valid loss 0.956111, Time 00:00:00, lr 0.0001\n",
      "Epoch 5. Train loss: 1.324972, Valid loss 0.722880, Time 00:00:00, lr 0.0001\n",
      "Epoch 6. Train loss: 1.112832, Valid loss 0.580438, Time 00:00:00, lr 0.0001\n",
      "Epoch 7. Train loss: 0.963099, Valid loss 0.496264, Time 00:00:00, lr 0.0001\n",
      "Epoch 8. Train loss: 0.856357, Valid loss 0.436722, Time 00:00:00, lr 0.0001\n",
      "Epoch 9. Train loss: 0.783322, Valid loss 0.395489, Time 00:00:00, lr 0.0001\n",
      "Epoch 10. Train loss: 0.716897, Valid loss 0.363251, Time 00:00:00, lr 0.0001\n",
      "Epoch 11. Train loss: 0.665865, Valid loss 0.352184, Time 00:00:00, lr 0.0001\n",
      "Epoch 12. Train loss: 0.620597, Valid loss 0.316217, Time 00:00:00, lr 0.0001\n",
      "Epoch 13. Train loss: 0.590437, Valid loss 0.305008, Time 00:00:00, lr 0.0001\n",
      "Epoch 14. Train loss: 0.565863, Valid loss 0.290870, Time 00:00:00, lr 0.0001\n",
      "Epoch 15. Train loss: 0.528818, Valid loss 0.280706, Time 00:00:00, lr 0.0001\n",
      "Epoch 16. Train loss: 0.515860, Valid loss 0.264666, Time 00:00:00, lr 0.0001\n",
      "Epoch 17. Train loss: 0.488461, Valid loss 0.259142, Time 00:00:00, lr 0.0001\n",
      "Epoch 18. Train loss: 0.480693, Valid loss 0.257354, Time 00:00:00, lr 0.0001\n",
      "Epoch 19. Train loss: 0.466092, Valid loss 0.253095, Time 00:00:00, lr 0.0001\n",
      "Epoch 20. Train loss: 0.449753, Valid loss 0.247601, Time 00:00:00, lr 0.0001\n",
      "Epoch 21. Train loss: 0.428407, Valid loss 0.235506, Time 00:00:00, lr 0.0001\n",
      "Epoch 22. Train loss: 0.420443, Valid loss 0.237968, Time 00:00:00, lr 0.0001\n",
      "Epoch 23. Train loss: 0.402292, Valid loss 0.231443, Time 00:00:00, lr 0.0001\n",
      "Epoch 24. Train loss: 0.404262, Valid loss 0.234696, Time 00:00:00, lr 0.0001\n",
      "Epoch 25. Train loss: 0.394669, Valid loss 0.230298, Time 00:00:00, lr 0.0001\n",
      "Epoch 26. Train loss: 0.372070, Valid loss 0.229567, Time 00:00:00, lr 0.0001\n",
      "Epoch 27. Train loss: 0.374683, Valid loss 0.229182, Time 00:00:00, lr 0.0001\n",
      "Epoch 28. Train loss: 0.365444, Valid loss 0.225980, Time 00:00:00, lr 0.0001\n",
      "Epoch 29. Train loss: 0.356163, Valid loss 0.230657, Time 00:00:00, lr 0.0001\n",
      "Epoch 30. Train loss: 0.358269, Valid loss 0.218718, Time 00:00:00, lr 0.0001\n",
      "Epoch 31. Train loss: 0.345654, Valid loss 0.222102, Time 00:00:00, lr 0.0001\n",
      "Epoch 32. Train loss: 0.336425, Valid loss 0.210284, Time 00:00:00, lr 0.0001\n",
      "Epoch 33. Train loss: 0.331684, Valid loss 0.219198, Time 00:00:00, lr 0.0001\n",
      "Epoch 34. Train loss: 0.324970, Valid loss 0.212191, Time 00:00:00, lr 0.0001\n",
      "Epoch 35. Train loss: 0.313143, Valid loss 0.210522, Time 00:00:00, lr 0.0001\n",
      "Epoch 36. Train loss: 0.307697, Valid loss 0.209212, Time 00:00:00, lr 0.0001\n",
      "Epoch 37. Train loss: 0.304137, Valid loss 0.209878, Time 00:00:00, lr 0.0001\n",
      "Epoch 38. Train loss: 0.299664, Valid loss 0.208385, Time 00:00:00, lr 0.0001\n",
      "Epoch 39. Train loss: 0.300524, Valid loss 0.202455, Time 00:00:00, lr 0.0001\n",
      "Epoch 40. Train loss: 0.298113, Valid loss 0.205849, Time 00:00:00, lr 0.0001\n",
      "Epoch 41. Train loss: 0.280359, Valid loss 0.204131, Time 00:00:00, lr 0.0001\n",
      "Epoch 42. Train loss: 0.278723, Valid loss 0.213560, Time 00:00:00, lr 0.0001\n",
      "Epoch 43. Train loss: 0.276899, Valid loss 0.205861, Time 00:00:00, lr 0.0001\n",
      "Epoch 44. Train loss: 0.278365, Valid loss 0.202872, Time 00:00:00, lr 0.0001\n",
      "Epoch 45. Train loss: 0.270849, Valid loss 0.201670, Time 00:00:00, lr 0.0001\n",
      "Epoch 46. Train loss: 0.268885, Valid loss 0.206535, Time 00:00:00, lr 0.0001\n",
      "Epoch 47. Train loss: 0.262893, Valid loss 0.195188, Time 00:00:00, lr 0.0001\n",
      "Epoch 48. Train loss: 0.264937, Valid loss 0.207410, Time 00:00:00, lr 0.0001\n",
      "Epoch 49. Train loss: 0.260065, Valid loss 0.202384, Time 00:00:00, lr 0.0001\n",
      "Epoch 50. Train loss: 0.245550, Valid loss 0.203646, Time 00:00:00, lr 0.0001\n",
      "Epoch 51. Train loss: 0.245191, Valid loss 0.201400, Time 00:00:00, lr 0.0001\n",
      "Epoch 52. Train loss: 0.247775, Valid loss 0.202919, Time 00:00:00, lr 0.0001\n",
      "Epoch 53. Train loss: 0.237921, Valid loss 0.207135, Time 00:00:00, lr 0.0001\n",
      "Epoch 54. Train loss: 0.243325, Valid loss 0.199301, Time 00:00:00, lr 0.0001\n",
      "Epoch 55. Train loss: 0.240355, Valid loss 0.198111, Time 00:00:00, lr 0.0001\n",
      "Epoch 56. Train loss: 0.242531, Valid loss 0.196988, Time 00:00:00, lr 0.0001\n",
      "Epoch 57. Train loss: 0.235036, Valid loss 0.200281, Time 00:00:00, lr 0.0001\n",
      "Epoch 58. Train loss: 0.234690, Valid loss 0.192837, Time 00:00:00, lr 0.0001\n",
      "Epoch 59. Train loss: 0.229771, Valid loss 0.204653, Time 00:00:00, lr 0.0001\n",
      "Epoch 60. Train loss: 0.222599, Valid loss 0.192802, Time 00:00:00, lr 0.0001\n",
      "Epoch 61. Train loss: 0.222379, Valid loss 0.193892, Time 00:00:00, lr 0.0001\n",
      "Epoch 62. Train loss: 0.220809, Valid loss 0.193690, Time 00:00:00, lr 0.0001\n",
      "Epoch 63. Train loss: 0.212811, Valid loss 0.197247, Time 00:00:00, lr 0.0001\n",
      "Epoch 64. Train loss: 0.214725, Valid loss 0.200540, Time 00:00:00, lr 0.0001\n",
      "Epoch 65. Train loss: 0.206232, Valid loss 0.197504, Time 00:00:00, lr 0.0001\n",
      "Epoch 66. Train loss: 0.212417, Valid loss 0.196167, Time 00:00:00, lr 0.0001\n",
      "Epoch 67. Train loss: 0.200836, Valid loss 0.189695, Time 00:00:00, lr 0.0001\n",
      "Epoch 68. Train loss: 0.201729, Valid loss 0.189211, Time 00:00:00, lr 0.0001\n",
      "Epoch 69. Train loss: 0.202527, Valid loss 0.194748, Time 00:00:00, lr 0.0001\n",
      "Epoch 70. Train loss: 0.203829, Valid loss 0.194359, Time 00:00:00, lr 0.0001\n",
      "Epoch 71. Train loss: 0.200782, Valid loss 0.195347, Time 00:00:00, lr 0.0001\n",
      "Epoch 72. Train loss: 0.190089, Valid loss 0.186752, Time 00:00:00, lr 0.0001\n",
      "Epoch 73. Train loss: 0.182907, Valid loss 0.188993, Time 00:00:00, lr 0.0001\n",
      "Epoch 74. Train loss: 0.195293, Valid loss 0.194999, Time 00:00:00, lr 0.0001\n",
      "Epoch 75. Train loss: 0.187453, Valid loss 0.189529, Time 00:00:00, lr 0.0001\n",
      "Epoch 76. Train loss: 0.183366, Valid loss 0.193763, Time 00:00:00, lr 0.0001\n",
      "Epoch 77. Train loss: 0.178276, Valid loss 0.208399, Time 00:00:00, lr 0.0001\n",
      "Epoch 78. Train loss: 0.179445, Valid loss 0.190429, Time 00:00:00, lr 0.0001\n",
      "Epoch 79. Train loss: 0.181741, Valid loss 0.197234, Time 00:00:00, lr 0.0001\n",
      "Epoch 80. Train loss: 0.178256, Valid loss 0.193917, Time 00:00:00, lr 0.0001\n",
      "Epoch 81. Train loss: 0.177437, Valid loss 0.196448, Time 00:00:00, lr 0.0001\n",
      "Epoch 82. Train loss: 0.169369, Valid loss 0.198611, Time 00:00:00, lr 0.0001\n",
      "Epoch 83. Train loss: 0.174752, Valid loss 0.198491, Time 00:00:00, lr 0.0001\n",
      "Epoch 84. Train loss: 0.170935, Valid loss 0.194687, Time 00:00:00, lr 0.0001\n",
      "Epoch 85. Train loss: 0.168978, Valid loss 0.196809, Time 00:00:00, lr 0.0001\n",
      "Epoch 86. Train loss: 0.169821, Valid loss 0.194438, Time 00:00:00, lr 0.0001\n",
      "Epoch 87. Train loss: 0.171211, Valid loss 0.193653, Time 00:00:00, lr 0.0001\n",
      "Epoch 88. Train loss: 0.163429, Valid loss 0.193965, Time 00:00:00, lr 0.0001\n",
      "Epoch 89. Train loss: 0.159495, Valid loss 0.197867, Time 00:00:00, lr 0.0001\n",
      "Epoch 90. Train loss: 0.161283, Valid loss 0.198674, Time 00:00:00, lr 0.0001\n",
      "Epoch 91. Train loss: 0.162052, Valid loss 0.206792, Time 00:00:00, lr 0.0001\n",
      "Epoch 92. Train loss: 0.158936, Valid loss 0.199264, Time 00:00:00, lr 0.0001\n",
      "Epoch 93. Train loss: 0.155941, Valid loss 0.207319, Time 00:00:00, lr 0.0001\n",
      "Epoch 94. Train loss: 0.153662, Valid loss 0.197438, Time 00:00:00, lr 0.0001\n",
      "Epoch 95. Train loss: 0.158071, Valid loss 0.201488, Time 00:00:00, lr 0.0001\n",
      "Epoch 96. Train loss: 0.151093, Valid loss 0.194861, Time 00:00:00, lr 0.0001\n",
      "Epoch 97. Train loss: 0.152831, Valid loss 0.196290, Time 00:00:00, lr 0.0001\n",
      "Epoch 98. Train loss: 0.150138, Valid loss 0.198779, Time 00:00:00, lr 0.0001\n",
      "Epoch 99. Train loss: 0.143764, Valid loss 0.199021, Time 00:00:00, lr 0.0001\n"
     ]
    }
   ],
   "source": [
    "import datetime\n",
    "import matplotlib\n",
    "matplotlib.use('agg')\n",
    "import matplotlib.pyplot as plt\n",
    "from mxnet import autograd\n",
    "from mxnet import gluon\n",
    "from mxnet import image\n",
    "from mxnet import init\n",
    "from mxnet import nd\n",
    "from mxnet.gluon.data import vision\n",
    "from mxnet.gluon import nn\n",
    "from mxnet import nd\n",
    "import pandas as pd\n",
    "import mxnet as mx\n",
    "import pickle\n",
    "\n",
    "train_nd = nd.load('train_inception_v3.nd')\n",
    "\n",
    "valid_nd = nd.load('valid_inception_v3.nd')\n",
    "\n",
    "input_nd = nd.load('input_inception_v3.nd')\n",
    "\n",
    "f = open('ids_synsets','rb')\n",
    "ids_synsets = pickle.load(f)\n",
    "f.close()\n",
    "\n",
    "num_epochs = 73\n",
    "batch_size = 128\n",
    "learning_rate = 1e-4\n",
    "weight_decay = 1e-5\n",
    "lr_period = 40\n",
    "lr_decay = 0.1\n",
    "pngname='1'\n",
    "modelparams='1'\n",
    "\n",
    "train_data_d = gluon.data.DataLoader(gluon.data.ArrayDataset(train_nd[0],train_nd[1]), batch_size=batch_size,shuffle=True)\n",
    "valid_data_d = gluon.data.DataLoader(gluon.data.ArrayDataset(valid_nd[0],valid_nd[1]), batch_size=batch_size,shuffle=True)\n",
    "input_data_d = gluon.data.DataLoader(gluon.data.ArrayDataset(input_nd[0],input_nd[1]), batch_size=batch_size,shuffle=True)\n",
    "\n",
    "\n",
    "def get_loss(data, net, ctx):\n",
    "    loss = 0.0\n",
    "    for feas, label in data:\n",
    "        label = label.as_in_context(ctx)\n",
    "        output = net(feas.as_in_context(ctx))\n",
    "        cross_entropy = softmax_cross_entropy(output, label)\n",
    "        loss += nd.mean(cross_entropy).asscalar()\n",
    "    return loss / len(data)\n",
    "\n",
    "softmax_cross_entropy = gluon.loss.SoftmaxCrossEntropyLoss()\n",
    "\n",
    "def train(net, train_data, valid_data, num_epochs, lr, wd, ctx, lr_period, \n",
    "          lr_decay):\n",
    "    trainer = gluon.Trainer(\n",
    "        net.collect_params(), 'adam', {'learning_rate': lr, 'wd': wd})\n",
    "    #trainer = gluon.Trainer(\n",
    "     #   net.collect_params(), 'sgd', {'learning_rate': lr, 'momentum': 0.9,\n",
    "      #                                'wd': wd})\n",
    "    train_loss = []\n",
    "    if valid_data is not None:\n",
    "        test_loss = []\n",
    "    \n",
    "    prev_time = datetime.datetime.now()\n",
    "    for epoch in range(num_epochs):\n",
    "        _loss = 0.\n",
    "        #if epoch > 0 and epoch % lr_period == 0:\n",
    "         #   trainer.set_learning_rate(trainer.learning_rate * lr_decay)\n",
    "        for data, label in train_data:\n",
    "            label = label.as_in_context(ctx)\n",
    "            with autograd.record():\n",
    "                output = net(data.as_in_context(ctx))\n",
    "                loss = softmax_cross_entropy(output, label)\n",
    "            loss.backward()\n",
    "            trainer.step(batch_size)\n",
    "            _loss += nd.mean(loss).asscalar()\n",
    "        cur_time = datetime.datetime.now()\n",
    "        h, remainder = divmod((cur_time - prev_time).seconds, 3600)\n",
    "        m, s = divmod(remainder, 60)\n",
    "        time_str = \"Time %02d:%02d:%02d\" % (h, m, s)\n",
    "        __loss = _loss/len(train_data)\n",
    "        train_loss.append(__loss)\n",
    "        \n",
    "        if valid_data is not None:  \n",
    "            valid_loss = get_loss(valid_data, net, ctx)\n",
    "            epoch_str = (\"Epoch %d. Train loss: %f, Valid loss %f, \"\n",
    "                         % (epoch,__loss , valid_loss))\n",
    "            test_loss.append(valid_loss)\n",
    "        else:\n",
    "            epoch_str = (\"Epoch %d. Train loss: %f, \"\n",
    "                         % (epoch, __loss))\n",
    "            \n",
    "        prev_time = cur_time\n",
    "        print(epoch_str + time_str + ', lr ' + str(trainer.learning_rate))\n",
    "        \n",
    "\n",
    "    plt.plot(train_loss, 'r')\n",
    "    if valid_data is not None: \n",
    "        plt.plot(test_loss, 'g')\n",
    "    plt.legend(['Train_Loss', 'Test_Loss'], loc=2)\n",
    "\n",
    "\n",
    "    plt.savefig(pngname, dpi=1000)\n",
    "    #net.collect_params().save(modelparams)\n",
    "    savefilename = \"./inception_v3.params\"\n",
    "    net.save_params(savefilename)\n",
    "\n",
    "ctx = mx.gpu()\n",
    "net = get_output(ctx)\n",
    "net.hybridize()\n",
    "\n",
    "#train(net, input_data_d,None, num_epochs, learning_rate, weight_decay, \n",
    " #     ctx, lr_period, lr_decay)\n",
    "train(net, train_data_d,valid_data_d, num_epochs, learning_rate, weight_decay, \n",
    "      ctx, lr_period, lr_decay)"
   ]
  },
  {
   "cell_type": "code",
   "execution_count": null,
   "metadata": {},
   "outputs": [],
   "source": [
    "import datetime\n",
    "import matplotlib\n",
    "matplotlib.use('agg')\n",
    "import matplotlib.pyplot as plt\n",
    "from mxnet import autograd\n",
    "from mxnet import gluon\n",
    "from mxnet import image\n",
    "from mxnet import init\n",
    "from mxnet import nd\n",
    "#from mxnet.gluon.data import vision\n",
    "from mxnet.gluon.model_zoo import vision\n",
    "from mxnet.gluon import nn\n",
    "from mxnet import nd\n",
    "import pandas as pd\n",
    "import mxnet as mx\n",
    "import pickle\n",
    "import numpy as np\n",
    "from tqdm import tqdm\n",
    "#from model import get_net\n",
    "\n",
    "data_dir = './'\n",
    "test_dir = 'test'\n",
    "input_dir = 'train_valid_test'\n",
    "valid_dir = 'valid'\n",
    "input_str = data_dir + '/' + input_dir + '/'\n",
    "\n",
    "netparams =\"./inception_v3.params\"\n",
    "csvname = 'p2_2.csv'\n",
    "ids_synsets_name = 'ids_synsets'\n",
    "\n",
    "f = open(ids_synsets_name,'rb')\n",
    "ids_synsets = pickle.load(f)\n",
    "f.close()\n",
    "\n",
    "def SaveTest(test_data,net,ctx,name,ids,synsets):\n",
    "    outputs = []\n",
    "    for data, label in tqdm(test_data):\n",
    "        output = nd.softmax(net(data.as_in_context(ctx)))\n",
    "        outputs.extend(output.asnumpy())\n",
    "    with open(name, 'w') as f:\n",
    "        f.write('id,' + ','.join(synsets) + '\\n')\n",
    "        for i, output in zip(ids, outputs):\n",
    "            f.write(i.split('.')[0] + ',' + ','.join(\n",
    "                [str(num) for num in output]) + '\\n')\n",
    "\n",
    "net = get_net(netparams,mx.gpu())\n",
    "net.hybridize()\n",
    "\n",
    "softmax_cross_entropy = gluon.loss.SoftmaxCrossEntropyLoss()\n",
    "#print(get_loss(valid_data,net,mx.gpu()))\n",
    "\n",
    "SaveTest(test_data,net,mx.gpu(),csvname,ids_synsets[0],ids_synsets[1])"
   ]
  },
  {
   "cell_type": "code",
   "execution_count": null,
   "metadata": {
    "collapsed": true
   },
   "outputs": [],
   "source": []
  }
 ],
 "metadata": {
  "kernelspec": {
   "display_name": "Python 3",
   "language": "python",
   "name": "python3"
  },
  "language_info": {
   "codemirror_mode": {
    "name": "ipython",
    "version": 3
   },
   "file_extension": ".py",
   "mimetype": "text/x-python",
   "name": "python",
   "nbconvert_exporter": "python",
   "pygments_lexer": "ipython3",
   "version": "3.6.3"
  }
 },
 "nbformat": 4,
 "nbformat_minor": 2
}
